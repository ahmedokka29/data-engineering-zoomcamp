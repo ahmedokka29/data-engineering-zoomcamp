{
 "cells": [
  {
   "cell_type": "markdown",
   "metadata": {},
   "source": [
    "# Terraform Workflow (Question 7)\n",
    "\n",
    "**Task**: Identify the correct Terraform command sequence.\n",
    "\n",
    "### Workflow Steps\n",
    "1. **Initialize**: Download providers/set up backend.\n",
    "2. **Apply**: Generate and auto-apply changes.\n",
    "3. **Destroy**: Remove all resources.\n",
    "\n",
    "**Answer**: `terraform init`, `terraform apply -auto-approve`, `terraform destroy` (Option D)\n",
    "\n",
    "---\n",
    "\n",
    "### Example `main.tf` for GCP Bucket/Dataset\n",
    "```hcl\n",
    "provider \"google\" {\n",
    "  project = \"your-project-id\"\n",
    "}\n",
    "\n",
    "resource \"google_storage_bucket\" \"data_bucket\" {\n",
    "  name     = \"ny-taxi-bucket\"\n",
    "  location = \"US\"\n",
    "}\n",
    "\n",
    "resource \"google_bigquery_dataset\" \"bq_dataset\" {\n",
    "  dataset_id = \"ny_taxi_dataset\"\n",
    "  location   = \"US\"\n",
    "}\n",
    "```"
   ]
  }
 ],
 "metadata": {
  "language_info": {
   "name": "python"
  }
 },
 "nbformat": 4,
 "nbformat_minor": 2
}
